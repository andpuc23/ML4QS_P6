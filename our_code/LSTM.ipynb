{
 "cells": [
  {
   "cell_type": "code",
   "execution_count": 14,
   "metadata": {},
   "outputs": [],
   "source": [
    "import pandas as pd\n",
    "import numpy as np\n",
    "from sklearn.preprocessing import LabelEncoder, MinMaxScaler, StandardScaler\n",
    "from sklearn.model_selection import train_test_split\n",
    "from keras.models import Sequential\n",
    "from keras.layers import LSTM, Dense, Conv1D, Flatten, Dropout, BatchNormalization\n",
    "from keras.utils import to_categorical\n",
    "from keras.optimizers import Adam\n"
   ]
  },
  {
   "cell_type": "markdown",
   "metadata": {},
   "source": [
    "# LSTM implementation"
   ]
  },
  {
   "cell_type": "code",
   "execution_count": 17,
   "metadata": {},
   "outputs": [],
   "source": [
    "rand = 0xC0FFEE\n",
    "\n",
    "# Load the dataset\n",
    "df = pd.read_csv('combined_data.csv')\n",
    "\n",
    "# Handle missing values if any\n",
    "df.fillna(method='ffill', inplace=True)\n",
    "\n",
    "# Encode the target variable\n",
    "label_encoder = LabelEncoder()\n",
    "df['activity'] = label_encoder.fit_transform(df['activity'])\n",
    "\n",
    "# Scale the features\n",
    "scaler = MinMaxScaler()\n",
    "scaled_features = scaler.fit_transform(df.drop(columns=['date_time', 'activity']))\n",
    "\n",
    "# Prepare the data for LSTM\n",
    "X = []\n",
    "y = []\n",
    "\n",
    "# Define the number of time steps\n",
    "time_steps = 10\n",
    "\n",
    "for i in range(time_steps, len(scaled_features)):\n",
    "    X.append(scaled_features[i-time_steps:i])\n",
    "    y.append(df['activity'].iloc[i])\n",
    "\n",
    "X, y = np.array(X), np.array(y)\n",
    "\n",
    "# One-hot encode the target variable\n",
    "y = to_categorical(y)\n",
    "\n",
    "# Split the data into training and testing sets\n",
    "X_train, X_test, y_train, y_test = train_test_split(X, y, random_state=rand, stratify=y)"
   ]
  },
  {
   "cell_type": "code",
   "execution_count": 18,
   "metadata": {},
   "outputs": [],
   "source": [
    "model = Sequential()\n",
    "model.add(LSTM(units=50, return_sequences=True, input_shape=(X_train.shape[1], X_train.shape[2])))\n",
    "model.add(LSTM(units=50))\n",
    "model.add(Dense(units=y_train.shape[1], activation='softmax'))\n",
    "\n",
    "model.compile(optimizer='adam', loss='categorical_crossentropy', metrics=['accuracy'])"
   ]
  },
  {
   "cell_type": "code",
   "execution_count": 19,
   "metadata": {},
   "outputs": [
    {
     "name": "stdout",
     "output_type": "stream",
     "text": [
      "Epoch 1/50\n",
      "508/508 [==============================] - 4s 4ms/step - loss: 0.0743 - accuracy: 0.9776 - val_loss: 0.0148 - val_accuracy: 0.9963\n",
      "Epoch 2/50\n",
      "508/508 [==============================] - 2s 4ms/step - loss: 0.0163 - accuracy: 0.9950 - val_loss: 0.0117 - val_accuracy: 0.9969\n",
      "Epoch 3/50\n",
      "508/508 [==============================] - 2s 4ms/step - loss: 0.0139 - accuracy: 0.9957 - val_loss: 0.0122 - val_accuracy: 0.9967\n",
      "Epoch 4/50\n",
      "508/508 [==============================] - 2s 4ms/step - loss: 0.0105 - accuracy: 0.9964 - val_loss: 0.0074 - val_accuracy: 0.9983\n",
      "Epoch 5/50\n",
      "508/508 [==============================] - 2s 4ms/step - loss: 0.0096 - accuracy: 0.9968 - val_loss: 0.0077 - val_accuracy: 0.9974\n",
      "Epoch 6/50\n",
      "508/508 [==============================] - 2s 4ms/step - loss: 0.0069 - accuracy: 0.9975 - val_loss: 0.0051 - val_accuracy: 0.9987\n",
      "Epoch 7/50\n",
      "508/508 [==============================] - 2s 4ms/step - loss: 0.0062 - accuracy: 0.9977 - val_loss: 0.0054 - val_accuracy: 0.9987\n",
      "Epoch 8/50\n",
      "508/508 [==============================] - 2s 4ms/step - loss: 0.0066 - accuracy: 0.9980 - val_loss: 0.0069 - val_accuracy: 0.9978\n",
      "Epoch 9/50\n",
      "508/508 [==============================] - 2s 4ms/step - loss: 0.0053 - accuracy: 0.9985 - val_loss: 0.0062 - val_accuracy: 0.9980\n",
      "Epoch 10/50\n",
      "508/508 [==============================] - 2s 4ms/step - loss: 0.0093 - accuracy: 0.9978 - val_loss: 0.0063 - val_accuracy: 0.9989\n",
      "Epoch 11/50\n",
      "508/508 [==============================] - 2s 4ms/step - loss: 0.0026 - accuracy: 0.9993 - val_loss: 0.0030 - val_accuracy: 0.9991\n",
      "Epoch 12/50\n",
      "508/508 [==============================] - 2s 4ms/step - loss: 0.0046 - accuracy: 0.9986 - val_loss: 0.0072 - val_accuracy: 0.9976\n",
      "Epoch 13/50\n",
      "508/508 [==============================] - 2s 4ms/step - loss: 0.0040 - accuracy: 0.9989 - val_loss: 0.0041 - val_accuracy: 0.9989\n",
      "Epoch 14/50\n",
      "508/508 [==============================] - 2s 3ms/step - loss: 0.0025 - accuracy: 0.9994 - val_loss: 0.0029 - val_accuracy: 0.9993\n",
      "Epoch 15/50\n",
      "508/508 [==============================] - 2s 4ms/step - loss: 0.0040 - accuracy: 0.9988 - val_loss: 0.0040 - val_accuracy: 0.9983\n",
      "Epoch 16/50\n",
      "508/508 [==============================] - 2s 3ms/step - loss: 0.0023 - accuracy: 0.9993 - val_loss: 0.0021 - val_accuracy: 0.9994\n",
      "Epoch 17/50\n",
      "508/508 [==============================] - 2s 4ms/step - loss: 0.0018 - accuracy: 0.9995 - val_loss: 0.0031 - val_accuracy: 0.9993\n",
      "Epoch 18/50\n",
      "508/508 [==============================] - 2s 4ms/step - loss: 0.0017 - accuracy: 0.9993 - val_loss: 0.0026 - val_accuracy: 0.9993\n",
      "Epoch 19/50\n",
      "508/508 [==============================] - 2s 4ms/step - loss: 0.0035 - accuracy: 0.9985 - val_loss: 0.0036 - val_accuracy: 0.9996\n",
      "Epoch 20/50\n",
      "508/508 [==============================] - 2s 4ms/step - loss: 0.0025 - accuracy: 0.9993 - val_loss: 0.0036 - val_accuracy: 0.9994\n",
      "Epoch 21/50\n",
      "508/508 [==============================] - 2s 4ms/step - loss: 0.0189 - accuracy: 0.9969 - val_loss: 0.0061 - val_accuracy: 0.9976\n",
      "Epoch 22/50\n",
      "508/508 [==============================] - 2s 4ms/step - loss: 0.0025 - accuracy: 0.9991 - val_loss: 0.0024 - val_accuracy: 0.9993\n",
      "Epoch 23/50\n",
      "508/508 [==============================] - 2s 4ms/step - loss: 0.0015 - accuracy: 0.9996 - val_loss: 0.0046 - val_accuracy: 0.9989\n",
      "Epoch 24/50\n",
      "508/508 [==============================] - 2s 4ms/step - loss: 0.0048 - accuracy: 0.9987 - val_loss: 0.0046 - val_accuracy: 0.9989\n",
      "Epoch 25/50\n",
      "508/508 [==============================] - 2s 4ms/step - loss: 0.0011 - accuracy: 0.9998 - val_loss: 0.0018 - val_accuracy: 0.9994\n",
      "Epoch 26/50\n",
      "508/508 [==============================] - 2s 4ms/step - loss: 9.2580e-04 - accuracy: 0.9998 - val_loss: 0.0022 - val_accuracy: 0.9994\n",
      "Epoch 27/50\n",
      "508/508 [==============================] - 2s 4ms/step - loss: 0.0022 - accuracy: 0.9995 - val_loss: 0.0017 - val_accuracy: 0.9996\n",
      "Epoch 28/50\n",
      "508/508 [==============================] - 2s 4ms/step - loss: 7.6911e-04 - accuracy: 0.9998 - val_loss: 0.0021 - val_accuracy: 0.9996\n",
      "Epoch 29/50\n",
      "508/508 [==============================] - 2s 4ms/step - loss: 5.5210e-04 - accuracy: 0.9999 - val_loss: 0.0027 - val_accuracy: 0.9996\n",
      "Epoch 30/50\n",
      "508/508 [==============================] - 2s 4ms/step - loss: 0.0044 - accuracy: 0.9988 - val_loss: 0.0031 - val_accuracy: 0.9993\n",
      "Epoch 31/50\n",
      "508/508 [==============================] - 2s 4ms/step - loss: 0.0020 - accuracy: 0.9996 - val_loss: 0.0020 - val_accuracy: 0.9993\n",
      "Epoch 32/50\n",
      "508/508 [==============================] - 2s 4ms/step - loss: 0.0034 - accuracy: 0.9990 - val_loss: 0.0015 - val_accuracy: 0.9996\n",
      "Epoch 33/50\n",
      "508/508 [==============================] - 2s 4ms/step - loss: 8.9559e-04 - accuracy: 0.9998 - val_loss: 0.0020 - val_accuracy: 0.9996\n",
      "Epoch 34/50\n",
      "508/508 [==============================] - 2s 4ms/step - loss: 0.0018 - accuracy: 0.9994 - val_loss: 0.0038 - val_accuracy: 0.9994\n",
      "Epoch 35/50\n",
      "508/508 [==============================] - 2s 4ms/step - loss: 0.0035 - accuracy: 0.9993 - val_loss: 0.0118 - val_accuracy: 0.9967\n",
      "Epoch 36/50\n",
      "508/508 [==============================] - 2s 4ms/step - loss: 0.0018 - accuracy: 0.9994 - val_loss: 0.0027 - val_accuracy: 0.9996\n",
      "Epoch 37/50\n",
      "508/508 [==============================] - 2s 4ms/step - loss: 3.8488e-04 - accuracy: 0.9999 - val_loss: 0.0025 - val_accuracy: 0.9996\n",
      "Epoch 38/50\n",
      "508/508 [==============================] - 2s 4ms/step - loss: 2.6008e-04 - accuracy: 0.9999 - val_loss: 0.0023 - val_accuracy: 0.9996\n",
      "Epoch 39/50\n",
      "508/508 [==============================] - 2s 4ms/step - loss: 0.0016 - accuracy: 0.9996 - val_loss: 0.0080 - val_accuracy: 0.9983\n",
      "Epoch 40/50\n",
      "508/508 [==============================] - 2s 4ms/step - loss: 0.0011 - accuracy: 0.9996 - val_loss: 0.0026 - val_accuracy: 0.9996\n",
      "Epoch 41/50\n",
      "508/508 [==============================] - 2s 4ms/step - loss: 8.4814e-04 - accuracy: 0.9998 - val_loss: 0.0020 - val_accuracy: 0.9994\n",
      "Epoch 42/50\n",
      "508/508 [==============================] - 2s 4ms/step - loss: 5.3043e-04 - accuracy: 0.9998 - val_loss: 0.0035 - val_accuracy: 0.9993\n",
      "Epoch 43/50\n",
      "508/508 [==============================] - 2s 4ms/step - loss: 6.6766e-04 - accuracy: 0.9999 - val_loss: 0.0024 - val_accuracy: 0.9996\n",
      "Epoch 44/50\n",
      "508/508 [==============================] - 2s 4ms/step - loss: 0.0031 - accuracy: 0.9989 - val_loss: 0.0022 - val_accuracy: 0.9993\n",
      "Epoch 45/50\n",
      "508/508 [==============================] - 2s 4ms/step - loss: 8.8625e-04 - accuracy: 0.9998 - val_loss: 0.0022 - val_accuracy: 0.9991\n",
      "Epoch 46/50\n",
      "508/508 [==============================] - 2s 4ms/step - loss: 4.3903e-04 - accuracy: 0.9999 - val_loss: 0.0020 - val_accuracy: 0.9996\n",
      "Epoch 47/50\n",
      "508/508 [==============================] - 2s 4ms/step - loss: 1.2638e-04 - accuracy: 0.9999 - val_loss: 0.0020 - val_accuracy: 0.9996\n",
      "Epoch 48/50\n",
      "508/508 [==============================] - 2s 4ms/step - loss: 8.5540e-05 - accuracy: 0.9999 - val_loss: 0.0022 - val_accuracy: 0.9996\n",
      "Epoch 49/50\n",
      "508/508 [==============================] - 2s 4ms/step - loss: 6.9405e-05 - accuracy: 1.0000 - val_loss: 0.0021 - val_accuracy: 0.9996\n",
      "Epoch 50/50\n",
      "508/508 [==============================] - 2s 4ms/step - loss: 4.7754e-05 - accuracy: 1.0000 - val_loss: 0.0021 - val_accuracy: 0.9996\n"
     ]
    }
   ],
   "source": [
    "history = model.fit(X_train, y_train, epochs=50, batch_size=32, validation_data=(X_test, y_test))"
   ]
  },
  {
   "cell_type": "code",
   "execution_count": 20,
   "metadata": {},
   "outputs": [
    {
     "name": "stdout",
     "output_type": "stream",
     "text": [
      "170/170 [==============================] - 0s 1ms/step - loss: 0.0021 - accuracy: 0.9996\n",
      "Test Accuracy: 99.96%\n"
     ]
    }
   ],
   "source": [
    "loss, accuracy = model.evaluate(X_test, y_test)\n",
    "print(f'Test Accuracy: {accuracy*100:.2f}%')"
   ]
  },
  {
   "cell_type": "code",
   "execution_count": 21,
   "metadata": {},
   "outputs": [
    {
     "name": "stdout",
     "output_type": "stream",
     "text": [
      "170/170 [==============================] - 1s 1ms/step\n",
      "Predicted: walking, True: walking\n",
      "Predicted: cycling, True: cycling\n",
      "Predicted: walking, True: walking\n",
      "Predicted: walking, True: walking\n",
      "Predicted: cycling, True: cycling\n",
      "Predicted: cycling, True: cycling\n",
      "Predicted: walking, True: walking\n",
      "Predicted: cycling, True: cycling\n",
      "Predicted: walking, True: walking\n",
      "Predicted: cycling, True: cycling\n"
     ]
    }
   ],
   "source": [
    "predictions = model.predict(X_test)\n",
    "predicted_classes = np.argmax(predictions, axis=1)\n",
    "true_classes = np.argmax(y_test, axis=1)\n",
    "\n",
    "# Decode the predicted and true classes\n",
    "predicted_labels = label_encoder.inverse_transform(predicted_classes)\n",
    "true_labels = label_encoder.inverse_transform(true_classes)\n",
    "\n",
    "# Print some predictions\n",
    "for i in range(10):\n",
    "    print(f'Predicted: {predicted_labels[i]}, True: {true_labels[i]}')"
   ]
  }
 ],
 "metadata": {
  "kernelspec": {
   "display_name": "mlqs",
   "language": "python",
   "name": "python3"
  },
  "language_info": {
   "codemirror_mode": {
    "name": "ipython",
    "version": 3
   },
   "file_extension": ".py",
   "mimetype": "text/x-python",
   "name": "python",
   "nbconvert_exporter": "python",
   "pygments_lexer": "ipython3",
   "version": "3.8.19"
  }
 },
 "nbformat": 4,
 "nbformat_minor": 2
}
