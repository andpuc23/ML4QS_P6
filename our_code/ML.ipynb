{
 "cells": [
  {
   "cell_type": "code",
   "execution_count": 1,
   "metadata": {},
   "outputs": [],
   "source": [
    "import pandas as pd\n",
    "import numpy as np\n",
    "\n",
    "from sklearn.neighbors import KNeighborsClassifier\n",
    "from sklearn.tree import DecisionTreeClassifier\n",
    "from sklearn.naive_bayes import GaussianNB\n",
    "from sklearn.ensemble import RandomForestClassifier\n",
    "from sklearn.model_selection import train_test_split as tts\n",
    "\n",
    "from sklearn.model_selection import GridSearchCV\n",
    "\n",
    "from sklearn.metrics import classification_report, roc_auc_score"
   ]
  },
  {
   "cell_type": "code",
   "execution_count": 2,
   "metadata": {},
   "outputs": [],
   "source": [
    "rand = 0xC0FFEE\n",
    "data = pd.read_csv('combined_data.csv')\n",
    "\n",
    "# first column is time\n",
    "X = data[data.columns[1:-1]]\n",
    "y = data['activity']"
   ]
  },
  {
   "cell_type": "code",
   "execution_count": 3,
   "metadata": {},
   "outputs": [
    {
     "data": {
      "text/html": [
       "<div>\n",
       "<style scoped>\n",
       "    .dataframe tbody tr th:only-of-type {\n",
       "        vertical-align: middle;\n",
       "    }\n",
       "\n",
       "    .dataframe tbody tr th {\n",
       "        vertical-align: top;\n",
       "    }\n",
       "\n",
       "    .dataframe thead th {\n",
       "        text-align: right;\n",
       "    }\n",
       "</style>\n",
       "<table border=\"1\" class=\"dataframe\">\n",
       "  <thead>\n",
       "    <tr style=\"text-align: right;\">\n",
       "      <th></th>\n",
       "      <th>acc_Acceleration x (m/s^2)</th>\n",
       "      <th>acc_Acceleration y (m/s^2)</th>\n",
       "      <th>acc_Acceleration z (m/s^2)</th>\n",
       "      <th>gyr_Gyroscope x (rad/s)</th>\n",
       "      <th>gyr_Gyroscope y (rad/s)</th>\n",
       "      <th>gyr_Gyroscope z (rad/s)</th>\n",
       "      <th>lin_acc_Linear Acceleration x (m/s^2)</th>\n",
       "      <th>lin_acc_Linear Acceleration y (m/s^2)</th>\n",
       "      <th>lin_acc_Linear Acceleration z (m/s^2)</th>\n",
       "    </tr>\n",
       "  </thead>\n",
       "  <tbody>\n",
       "    <tr>\n",
       "      <th>0</th>\n",
       "      <td>-1.457379</td>\n",
       "      <td>3.879065</td>\n",
       "      <td>8.795268</td>\n",
       "      <td>-0.130110</td>\n",
       "      <td>-0.904436</td>\n",
       "      <td>0.261214</td>\n",
       "      <td>-0.185778</td>\n",
       "      <td>0.186615</td>\n",
       "      <td>0.108793</td>\n",
       "    </tr>\n",
       "    <tr>\n",
       "      <th>1</th>\n",
       "      <td>-0.298654</td>\n",
       "      <td>4.020241</td>\n",
       "      <td>9.806834</td>\n",
       "      <td>-0.297330</td>\n",
       "      <td>-0.678040</td>\n",
       "      <td>0.269078</td>\n",
       "      <td>0.074469</td>\n",
       "      <td>0.239480</td>\n",
       "      <td>0.572785</td>\n",
       "    </tr>\n",
       "    <tr>\n",
       "      <th>2</th>\n",
       "      <td>-0.338285</td>\n",
       "      <td>3.731756</td>\n",
       "      <td>9.367452</td>\n",
       "      <td>-0.056045</td>\n",
       "      <td>-0.135990</td>\n",
       "      <td>0.028786</td>\n",
       "      <td>-0.010581</td>\n",
       "      <td>-0.000861</td>\n",
       "      <td>0.067117</td>\n",
       "    </tr>\n",
       "    <tr>\n",
       "      <th>3</th>\n",
       "      <td>-0.450748</td>\n",
       "      <td>3.181258</td>\n",
       "      <td>8.893374</td>\n",
       "      <td>-0.074142</td>\n",
       "      <td>-0.201961</td>\n",
       "      <td>0.201121</td>\n",
       "      <td>-0.176372</td>\n",
       "      <td>-0.652862</td>\n",
       "      <td>0.020059</td>\n",
       "    </tr>\n",
       "    <tr>\n",
       "      <th>4</th>\n",
       "      <td>1.228714</td>\n",
       "      <td>1.318445</td>\n",
       "      <td>8.843274</td>\n",
       "      <td>-0.291527</td>\n",
       "      <td>-1.689527</td>\n",
       "      <td>0.561903</td>\n",
       "      <td>-0.128870</td>\n",
       "      <td>-1.563116</td>\n",
       "      <td>-0.194413</td>\n",
       "    </tr>\n",
       "  </tbody>\n",
       "</table>\n",
       "</div>"
      ],
      "text/plain": [
       "   acc_Acceleration x (m/s^2)  acc_Acceleration y (m/s^2)  \\\n",
       "0                   -1.457379                    3.879065   \n",
       "1                   -0.298654                    4.020241   \n",
       "2                   -0.338285                    3.731756   \n",
       "3                   -0.450748                    3.181258   \n",
       "4                    1.228714                    1.318445   \n",
       "\n",
       "   acc_Acceleration z (m/s^2)  gyr_Gyroscope x (rad/s)  \\\n",
       "0                    8.795268                -0.130110   \n",
       "1                    9.806834                -0.297330   \n",
       "2                    9.367452                -0.056045   \n",
       "3                    8.893374                -0.074142   \n",
       "4                    8.843274                -0.291527   \n",
       "\n",
       "   gyr_Gyroscope y (rad/s)  gyr_Gyroscope z (rad/s)  \\\n",
       "0                -0.904436                 0.261214   \n",
       "1                -0.678040                 0.269078   \n",
       "2                -0.135990                 0.028786   \n",
       "3                -0.201961                 0.201121   \n",
       "4                -1.689527                 0.561903   \n",
       "\n",
       "   lin_acc_Linear Acceleration x (m/s^2)  \\\n",
       "0                              -0.185778   \n",
       "1                               0.074469   \n",
       "2                              -0.010581   \n",
       "3                              -0.176372   \n",
       "4                              -0.128870   \n",
       "\n",
       "   lin_acc_Linear Acceleration y (m/s^2)  \\\n",
       "0                               0.186615   \n",
       "1                               0.239480   \n",
       "2                              -0.000861   \n",
       "3                              -0.652862   \n",
       "4                              -1.563116   \n",
       "\n",
       "   lin_acc_Linear Acceleration z (m/s^2)  \n",
       "0                               0.108793  \n",
       "1                               0.572785  \n",
       "2                               0.067117  \n",
       "3                               0.020059  \n",
       "4                              -0.194413  "
      ]
     },
     "execution_count": 3,
     "metadata": {},
     "output_type": "execute_result"
    }
   ],
   "source": [
    "X.head()"
   ]
  },
  {
   "cell_type": "code",
   "execution_count": 4,
   "metadata": {},
   "outputs": [],
   "source": [
    "X_train, X_test, y_train, y_test = tts(X, y, random_state=rand, stratify=y)"
   ]
  },
  {
   "cell_type": "code",
   "execution_count": 5,
   "metadata": {},
   "outputs": [
    {
     "data": {
      "text/plain": [
       "0.7499884542557613"
      ]
     },
     "execution_count": 5,
     "metadata": {},
     "output_type": "execute_result"
    }
   ],
   "source": [
    "len(X_train)/len(X)"
   ]
  },
  {
   "cell_type": "code",
   "execution_count": 6,
   "metadata": {},
   "outputs": [
    {
     "name": "stdout",
     "output_type": "stream",
     "text": [
      "naive bayes\n",
      "              precision    recall  f1-score   support\n",
      "\n",
      "     cycling       0.95      0.95      0.95      2592\n",
      "     running       0.96      0.74      0.84       916\n",
      "     walking       0.83      0.93      0.88      1906\n",
      "\n",
      "    accuracy                           0.91      5414\n",
      "   macro avg       0.92      0.87      0.89      5414\n",
      "weighted avg       0.91      0.91      0.91      5414\n",
      "\n",
      "ROC AUC Score: 0.9808982593193275\n"
     ]
    }
   ],
   "source": [
    "bayes = GaussianNB()\n",
    "bayes.fit(X_train, y_train)\n",
    "pred_p = bayes.predict_proba(X_test)\n",
    "pred = bayes.predict(X_test)\n",
    "\n",
    "print('naive bayes')\n",
    "print(classification_report(y_pred=pred, y_true=y_test))\n",
    "\n",
    "roc_auc = roc_auc_score(y_test, pred_p, multi_class='ovr')\n",
    "print(f'ROC AUC Score: {roc_auc}')"
   ]
  },
  {
   "cell_type": "code",
   "execution_count": 7,
   "metadata": {},
   "outputs": [
    {
     "name": "stdout",
     "output_type": "stream",
     "text": [
      "KNN\n",
      "              precision    recall  f1-score   support\n",
      "\n",
      "     cycling       0.99      1.00      0.99      2592\n",
      "     running       1.00      0.96      0.98       916\n",
      "     walking       0.99      1.00      0.99      1906\n",
      "\n",
      "    accuracy                           0.99      5414\n",
      "   macro avg       0.99      0.98      0.99      5414\n",
      "weighted avg       0.99      0.99      0.99      5414\n",
      "\n",
      "ROC AUC Score: 0.9949590992150408\n"
     ]
    }
   ],
   "source": [
    "knn = KNeighborsClassifier()\n",
    "knn.fit(X_train, y_train)\n",
    "pred_p = knn.predict_proba(X_test)\n",
    "pred = knn.predict(X_test)\n",
    "\n",
    "print('KNN')\n",
    "print(classification_report(y_pred=pred, y_true=y_test))\n",
    "\n",
    "roc_auc = roc_auc_score(y_test, pred_p, multi_class='ovr')\n",
    "print(f'ROC AUC Score: {roc_auc}')"
   ]
  },
  {
   "cell_type": "code",
   "execution_count": 8,
   "metadata": {},
   "outputs": [
    {
     "name": "stdout",
     "output_type": "stream",
     "text": [
      "KNN gridsearch\n",
      "{'leaf_size': 3, 'n_neighbors': 11}\n",
      "              precision    recall  f1-score   support\n",
      "\n",
      "     cycling       0.99      1.00      0.99      2592\n",
      "     running       1.00      0.95      0.97       916\n",
      "     walking       0.98      0.99      0.99      1906\n",
      "\n",
      "    accuracy                           0.99      5414\n",
      "   macro avg       0.99      0.98      0.98      5414\n",
      "weighted avg       0.99      0.99      0.99      5414\n",
      "\n",
      "ROC AUC Score: 0.9958874489020966\n"
     ]
    }
   ],
   "source": [
    "knn_gs = GridSearchCV(KNeighborsClassifier(), \n",
    "                      {\n",
    "                          'n_neighbors':[1, 3, 5, 11],\n",
    "                          'leaf_size':[3, 5, 10, 15]\n",
    "                        }, cv=5, scoring='roc_auc_ovr').fit(X_train, y_train)\n",
    "\n",
    "pred_p = knn_gs.predict_proba(X_test)\n",
    "pred = knn_gs.predict(X_test)\n",
    "\n",
    "print('KNN gridsearch')\n",
    "print(knn_gs.best_params_)\n",
    "print(classification_report(y_pred=pred, y_true=y_test))\n",
    "\n",
    "roc_auc = roc_auc_score(y_test, pred_p, multi_class='ovr')\n",
    "print(f'ROC AUC Score: {roc_auc}')"
   ]
  },
  {
   "cell_type": "code",
   "execution_count": 9,
   "metadata": {},
   "outputs": [
    {
     "name": "stdout",
     "output_type": "stream",
     "text": [
      "decision tree\n",
      "              precision    recall  f1-score   support\n",
      "\n",
      "     cycling       0.99      0.98      0.98      2592\n",
      "     running       0.96      0.94      0.95       916\n",
      "     walking       0.97      0.98      0.97      1906\n",
      "\n",
      "    accuracy                           0.97      5414\n",
      "   macro avg       0.97      0.97      0.97      5414\n",
      "weighted avg       0.97      0.97      0.97      5414\n",
      "\n",
      "ROC AUC Score: 0.9777257967808796\n"
     ]
    }
   ],
   "source": [
    "tree = DecisionTreeClassifier()\n",
    "tree.fit(X_train, y_train)\n",
    "pred_p = tree.predict_proba(X_test)\n",
    "pred = tree.predict(X_test)\n",
    "\n",
    "print('decision tree')\n",
    "print(classification_report(y_pred=pred, y_true=y_test))\n",
    "\n",
    "roc_auc = roc_auc_score(y_test, pred_p, multi_class='ovr')\n",
    "print(f'ROC AUC Score: {roc_auc}')"
   ]
  },
  {
   "cell_type": "code",
   "execution_count": 10,
   "metadata": {},
   "outputs": [
    {
     "name": "stdout",
     "output_type": "stream",
     "text": [
      "tree gridsearch\n",
      "{'max_depth': 15}\n",
      "              precision    recall  f1-score   support\n",
      "\n",
      "     cycling       0.99      0.98      0.98      2592\n",
      "     running       0.97      0.95      0.96       916\n",
      "     walking       0.97      0.98      0.97      1906\n",
      "\n",
      "    accuracy                           0.98      5414\n",
      "   macro avg       0.97      0.97      0.97      5414\n",
      "weighted avg       0.98      0.98      0.98      5414\n",
      "\n",
      "ROC AUC Score: 0.999645936226132\n"
     ]
    }
   ],
   "source": [
    "tree_gs = GridSearchCV(DecisionTreeClassifier(), \n",
    "                      {\n",
    "                          'max_depth':[5, 10, 15, 50],\n",
    "                        }, cv=5, scoring='roc_auc_ovr').fit(X_train, y_train)\n",
    "\n",
    "pred_p = tree_gs.predict_proba(X_test)\n",
    "pred = tree_gs.predict(X_test)\n",
    "\n",
    "print('tree gridsearch')\n",
    "print(tree_gs.best_params_)\n",
    "print(classification_report(y_pred=pred, y_true=y_test))\n",
    "\n",
    "roc_auc = roc_auc_score(y_test, pred_p, multi_class='ovr')\n",
    "print(f'ROC AUC Score: {roc_auc}')"
   ]
  },
  {
   "cell_type": "code",
   "execution_count": 11,
   "metadata": {},
   "outputs": [
    {
     "name": "stdout",
     "output_type": "stream",
     "text": [
      "Random forest\n",
      "              precision    recall  f1-score   support\n",
      "\n",
      "     cycling       0.99      1.00      0.99      2592\n",
      "     running       0.99      0.97      0.98       916\n",
      "     walking       0.99      1.00      0.99      1906\n",
      "\n",
      "    accuracy                           0.99      5414\n",
      "   macro avg       0.99      0.99      0.99      5414\n",
      "weighted avg       0.99      0.99      0.99      5414\n",
      "\n",
      "ROC AUC Score: 0.9989607772054662\n"
     ]
    }
   ],
   "source": [
    "forest = RandomForestClassifier()\n",
    "forest.fit(X_train, y_train)\n",
    "pred_p = forest.predict_proba(X_test)\n",
    "pred = forest.predict(X_test)\n",
    "\n",
    "print('Random forest')\n",
    "print(classification_report(y_pred=pred, y_true=y_test))\n",
    "\n",
    "roc_auc = roc_auc_score(y_test, pred_p, multi_class='ovr')\n",
    "print(f'ROC AUC Score: {roc_auc}')"
   ]
  },
  {
   "cell_type": "code",
   "execution_count": 12,
   "metadata": {},
   "outputs": [
    {
     "name": "stdout",
     "output_type": "stream",
     "text": [
      "random forest gridsearch\n",
      "{'max_depth': 15}\n",
      "              precision    recall  f1-score   support\n",
      "\n",
      "     cycling       0.99      1.00      0.99      2592\n",
      "     running       0.99      0.97      0.98       916\n",
      "     walking       0.99      1.00      0.99      1906\n",
      "\n",
      "    accuracy                           0.99      5414\n",
      "   macro avg       0.99      0.99      0.99      5414\n",
      "weighted avg       0.99      0.99      0.99      5414\n",
      "\n",
      "ROC AUC Score: 0.9999997571588951\n"
     ]
    }
   ],
   "source": [
    "forest_gs = GridSearchCV(RandomForestClassifier(), \n",
    "                      {\n",
    "                          'max_depth':[3, 5, 10, 20],\n",
    "                          'n_estimators':[10, 50, 100]\n",
    "                        }, cv=5, scoring='roc_auc_ovr').fit(X_train, y_train)\n",
    "\n",
    "pred_p = forest_gs.predict_proba(X_test)\n",
    "pred = forest_gs.predict(X_test)\n",
    "\n",
    "print('random forest gridsearch')\n",
    "print(tree_gs.best_params_)\n",
    "print(classification_report(y_pred=pred, y_true=y_test))\n",
    "\n",
    "roc_auc = roc_auc_score(y_test, pred_p, multi_class='ovr')\n",
    "print(f'ROC AUC Score: {roc_auc}')"
   ]
  },
  {
   "cell_type": "code",
   "execution_count": null,
   "metadata": {},
   "outputs": [],
   "source": []
  },
  {
   "cell_type": "code",
   "execution_count": null,
   "metadata": {},
   "outputs": [],
   "source": []
  }
 ],
 "metadata": {
  "kernelspec": {
   "display_name": "ml4qs",
   "language": "python",
   "name": "python3"
  },
  "language_info": {
   "codemirror_mode": {
    "name": "ipython",
    "version": 3
   },
   "file_extension": ".py",
   "mimetype": "text/x-python",
   "name": "python",
   "nbconvert_exporter": "python",
   "pygments_lexer": "ipython3",
   "version": "3.8.8"
  }
 },
 "nbformat": 4,
 "nbformat_minor": 2
}
