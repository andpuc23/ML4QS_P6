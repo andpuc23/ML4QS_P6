{
 "cells": [
  {
   "cell_type": "code",
   "execution_count": 1,
   "metadata": {},
   "outputs": [],
   "source": [
    "import pandas as pd\n",
    "import numpy as np\n",
    "\n",
    "from sklearn.neighbors import KNeighborsClassifier\n",
    "from sklearn.tree import DecisionTreeClassifier\n",
    "from sklearn.naive_bayes import GaussianNB\n",
    "from sklearn.ensemble import RandomForestClassifier\n",
    "from sklearn.model_selection import train_test_split as tts\n",
    "\n",
    "from sklearn.model_selection import GridSearchCV\n",
    "\n",
    "from sklearn.metrics import classification_report, roc_auc_score"
   ]
  },
  {
   "cell_type": "code",
   "execution_count": null,
   "metadata": {},
   "outputs": [],
   "source": [
    "rand = 0xC0FFEE\n",
    "data = pd.read_csv()\n",
    "X = data[data.columns[:-1]]\n",
    "y = data['labels']"
   ]
  },
  {
   "cell_type": "code",
   "execution_count": null,
   "metadata": {},
   "outputs": [],
   "source": [
    "X_train, y_train, X_test, y_test = tts(X, y, random_state=rand, stratify=y)"
   ]
  },
  {
   "cell_type": "code",
   "execution_count": null,
   "metadata": {},
   "outputs": [],
   "source": [
    "bayes = GaussianNB()\n",
    "bayes.fit(X_train, y_train)\n",
    "pred_p = bayes.predict_proba(X_test)\n",
    "pred = bayes.predict(X_test)\n",
    "\n",
    "print('naive bayes')\n",
    "print(classification_report(y_pred=pred, y_true=y_test))\n",
    "print(roc_auc_score(y_test, pred_p))"
   ]
  },
  {
   "cell_type": "code",
   "execution_count": null,
   "metadata": {},
   "outputs": [],
   "source": [
    "knn = KNeighborsClassifier()\n",
    "knn.fit(X_train, y_train)\n",
    "pred_p = knn.predict_proba(X_test)\n",
    "pred = knn.predict(X_test)\n",
    "\n",
    "print('KNN')\n",
    "print(classification_report(y_pred=pred, y_true=y_test))\n",
    "print(roc_auc_score(y_test, pred_p))"
   ]
  },
  {
   "cell_type": "code",
   "execution_count": null,
   "metadata": {},
   "outputs": [],
   "source": [
    "knn_gs = GridSearchCV(KNeighborsClassifier(), \n",
    "                      {\n",
    "                          'n_neighbors':[1, 3, 5, 11],\n",
    "                          'leaf_size':[3, 5, 10, 15]\n",
    "                        }, cv=5, scoring='roc_auc').fit(X_train, y_train)\n",
    "\n",
    "pred_p = knn_gs.predict_proba(X_test)\n",
    "pred = knn_gs.predict(X_test)\n",
    "\n",
    "print('KNN gridsearch')\n",
    "print(knn_gs.best_params_)\n",
    "print(classification_report(y_pred=pred, y_true=y_test))\n",
    "print(roc_auc_score(y_test, pred_p))"
   ]
  },
  {
   "cell_type": "code",
   "execution_count": null,
   "metadata": {},
   "outputs": [],
   "source": [
    "tree = DecisionTreeClassifier()\n",
    "tree.fit(X_train, y_train)\n",
    "pred_p = tree.predict_proba(X_test)\n",
    "pred = tree.predict(X_test)\n",
    "\n",
    "print('decision tree')\n",
    "print(classification_report(y_pred=pred, y_true=y_test))\n",
    "print(roc_auc_score(y_test, pred_p))"
   ]
  },
  {
   "cell_type": "code",
   "execution_count": null,
   "metadata": {},
   "outputs": [],
   "source": [
    "tree_gs = GridSearchCV(DecisionTreeClassifier(), \n",
    "                      {\n",
    "                          'max_depth':[5, 10, 15, 50],\n",
    "                        }, cv=5, scoring='roc_auc').fit(X_train, y_train)\n",
    "\n",
    "pred_p = tree_gs.predict_proba(X_test)\n",
    "pred = tree_gs.predict(X_test)\n",
    "\n",
    "print('tree gridsearch')\n",
    "print(tree_gs.best_params_)\n",
    "print(classification_report(y_pred=pred, y_true=y_test))\n",
    "print(roc_auc_score(y_test, pred_p))"
   ]
  },
  {
   "cell_type": "code",
   "execution_count": null,
   "metadata": {},
   "outputs": [],
   "source": [
    "forest = RandomForestClassifier()\n",
    "forest.fit(X_train, y_train)\n",
    "pred_p = forest.predict_proba(X_test)\n",
    "pred = forest.predict(X_test)\n",
    "\n",
    "print('Random forest')\n",
    "print(classification_report(y_pred=pred, y_true=y_test))\n",
    "print(roc_auc_score(y_test, pred_p))"
   ]
  },
  {
   "cell_type": "code",
   "execution_count": null,
   "metadata": {},
   "outputs": [],
   "source": [
    "forest_gs = GridSearchCV(RandomForestClassifier(), \n",
    "                      {\n",
    "                          'max_depth':[3, 5, 10, 20],\n",
    "                          'num_estimators':[10, 50, 100]\n",
    "                        }, cv=5, scoring='roc_auc').fit(X_train, y_train)\n",
    "\n",
    "pred_p = forest_gs.predict_proba(X_test)\n",
    "pred = forest_gs.predict(X_test)\n",
    "\n",
    "print('random forest gridsearch')\n",
    "print(tree_gs.best_params_)\n",
    "print(classification_report(y_pred=pred, y_true=y_test))\n",
    "print(roc_auc_score(y_test, pred_p))"
   ]
  }
 ],
 "metadata": {
  "kernelspec": {
   "display_name": "ml4qs",
   "language": "python",
   "name": "python3"
  },
  "language_info": {
   "codemirror_mode": {
    "name": "ipython",
    "version": 3
   },
   "file_extension": ".py",
   "mimetype": "text/x-python",
   "name": "python",
   "nbconvert_exporter": "python",
   "pygments_lexer": "ipython3",
   "version": "3.8.8"
  }
 },
 "nbformat": 4,
 "nbformat_minor": 2
}
